{
 "cells": [
  {
   "cell_type": "markdown",
   "id": "6bba330d-0b30-4248-9822-c48fe9c5c36a",
   "metadata": {
    "tags": []
   },
   "source": [
    "<div class=\"header\">\n",
    "    <div class=\"title\">\n",
    "    <h1>Lennard Jones Potential</h1>\n",
    "    </div>\n",
    "    <div class=\"authors\">\n",
    "        Paul Breuer <br/>\n",
    "    </div>\n",
    "</div>"
   ]
  },
  {
   "cell_type": "markdown",
   "id": "49b9c97d-7d69-4301-9646-11d67b7a0000",
   "metadata": {
    "tags": []
   },
   "source": [
    "## Imports"
   ]
  },
  {
   "cell_type": "code",
   "execution_count": null,
   "id": "989d3037-df09-42ff-b938-cfdcf5dcf487",
   "metadata": {},
   "outputs": [],
   "source": [
    "import numpy as np\n",
    "import matplotlib.pyplot as plt\n",
    "from scipy.optimize import curve_fit\n",
    "import time\n",
    "from ase import Atoms\n",
    "from ase.visualize import view\n",
    "from ase.io.trajectory import Trajectory"
   ]
  },
  {
   "cell_type": "markdown",
   "id": "acaea9f2-c031-4755-833b-4155e5418a2a",
   "metadata": {
    "tags": []
   },
   "source": [
    "## Simulation parameters"
   ]
  },
  {
   "cell_type": "code",
   "execution_count": null,
   "id": "687394b3-7cc3-4d1c-be2e-c9d01e4a251a",
   "metadata": {},
   "outputs": [],
   "source": [
    "delta = 0.01\n",
    "M = 1000\n",
    "dimensions = 3\n",
    "LStol = 10**-8\n",
    "ECtol = 10**-10\n",
    "MaxLSSteps = 10**5\n",
    "MaxCGSteps = 10**5"
   ]
  },
  {
   "cell_type": "markdown",
   "id": "0637f08d-f2ac-4a88-9e8b-1cd3df201d1e",
   "metadata": {
    "tags": []
   },
   "source": [
    "## Global variables"
   ]
  },
  {
   "cell_type": "code",
   "execution_count": null,
   "id": "9b7ff7ec-267b-4979-8812-a3ea7e303cea",
   "metadata": {},
   "outputs": [],
   "source": [
    "Time_calculating_forces = 0\n",
    "goal_energy = [-1.0, -3.0, -6.0, -9.1, -12.7, -16.5, -19.8, -24.1, -28.4, -32.7, -37.9, -44.3, -47.8, -52.3, -56.8, -61.3, -66.5, -72.7, -77.2, -81.7, -86.8, -92.8, -97.3, -102.4]"
   ]
  },
  {
   "cell_type": "markdown",
   "id": "7f6a8d11-0576-41d3-a569-006d22033cf9",
   "metadata": {
    "tags": []
   },
   "source": [
    "## Remark:"
   ]
  },
  {
   "cell_type": "markdown",
   "id": "296c7fca-17e4-4a04-9bc0-3f36e7d4678e",
   "metadata": {},
   "source": [
    "The complete notebook might take a significant time to execute. "
   ]
  },
  {
   "cell_type": "markdown",
   "id": "c42968dc-f31d-4f76-b34b-fc5ef6cca112",
   "metadata": {},
   "source": [
    "# Perform energy minimization of nanoclusters"
   ]
  },
  {
   "cell_type": "markdown",
   "id": "1dfc6857-7b08-4d36-9340-ff851ed5ae98",
   "metadata": {},
   "source": [
    "### Inputs:"
   ]
  },
  {
   "cell_type": "markdown",
   "id": "8aa90ea1-13d5-46e7-a570-4e54771d7074",
   "metadata": {},
   "source": [
    "- Task 1 contains:\n",
    "    - initialization of the positions\n",
    "    - calculate energy\n",
    "    - calculate forces\n",
    "    - perform line search\n",
    "    - perform conjugate gradient minimization\n",
    "- the simulation parameters:\n",
    "    - *N*: number of atoms (2-25)\n",
    "    - *L*: box size\n",
    "    - *alpha*: for calculating the total energy\n",
    "    - *dimensions*: number of dimensions"
   ]
  },
  {
   "cell_type": "markdown",
   "id": "c627c4b8-eb70-45c5-8f46-aad35849fa84",
   "metadata": {
    "tags": []
   },
   "source": [
    "## Position initialization"
   ]
  },
  {
   "cell_type": "code",
   "execution_count": null,
   "id": "2a60788b-e6b1-4b5d-b2c6-6356b0e4aa09",
   "metadata": {},
   "outputs": [],
   "source": [
    "def initialize_positions(N, L):\n",
    "    pos = (np.random.rand(N, dimensions) - 1/2) * L\n",
    "    return pos"
   ]
  },
  {
   "cell_type": "markdown",
   "id": "57b0df69-43b3-48b3-8150-1836863dd175",
   "metadata": {
    "tags": []
   },
   "source": [
    "## Finding distance"
   ]
  },
  {
   "cell_type": "code",
   "execution_count": null,
   "id": "f5621b4ca4a61833",
   "metadata": {
    "collapsed": false
   },
   "outputs": [],
   "source": [
    "def find_distance(atom_1, atom_2, L):\n",
    "    distance = atom_2 - atom_1 - L * np.round((atom_2 - atom_1) / L)\n",
    "    return distance"
   ]
  },
  {
   "cell_type": "markdown",
   "id": "ed17c7d6244d56db",
   "metadata": {
    "collapsed": false
   },
   "source": [
    "## Potential Energy calculation"
   ]
  },
  {
   "cell_type": "code",
   "execution_count": null,
   "id": "07ec6dd5-5416-4bc0-aee4-fc1146a787a4",
   "metadata": {},
   "outputs": [],
   "source": [
    "def calculate_potential_energy(positions, L, epsilon=1.0, sigma=1.0, rc=2.5):\n",
    "    N = len(positions)\n",
    "    alpha = 0.0001 * len(positions) ** (-2 / 3)\n",
    "    total_energy = 0.0\n",
    "    sum_1 = 0.0\n",
    "    sum_2 = 0\n",
    "    for i in range(N-1):\n",
    "        for j in range(i+1, N):\n",
    "            r_ij = find_distance(positions[i], positions[j], L)\n",
    "            r = np.linalg.norm(r_ij)\n",
    "\n",
    "            # Truncate the pairwise potential\n",
    "            if rc * sigma >= r > 0.1:\n",
    "                # Lennard-Jones potential energy calculation\n",
    "                potential_energy = 4 * epsilon * ((((sigma/r)**3)**2)**2 - ((sigma/r)**3)**2 - (((sigma/rc)**3)**2)**2 + ((sigma/rc)**3)**2)\n",
    "                sum_2 += potential_energy\n",
    "    for i in range(N):\n",
    "        sum_1 += alpha * (np.linalg.norm(positions[i])) ** 2\n",
    "    energy = sum_1 + sum_2\n",
    "\n",
    "    return energy"
   ]
  },
  {
   "cell_type": "markdown",
   "id": "6848feeb-a32a-4d24-8f6a-535bb37dcf9c",
   "metadata": {
    "tags": []
   },
   "source": [
    "## Forces calculation"
   ]
  },
  {
   "cell_type": "code",
   "execution_count": null,
   "id": "70d5e946-1856-4f37-801b-cdf262e88465",
   "metadata": {},
   "outputs": [],
   "source": [
    "def calculate_forces(positions, L, epsilon=1, sigma=1, rc=2.5):\n",
    "    f = [[0., 0., 0.] for l in range(len(positions))]\n",
    "    for i in range(len(positions) + 1):\n",
    "        for j in range(i + 1, len(positions)):\n",
    "            R = find_distance(positions[i], positions[j], L)\n",
    "            r = np.linalg.norm(R)\n",
    "            if r <= rc:\n",
    "                f[i] += R / r * 4 * epsilon * (-12 * (r / sigma) ** (-13) + 6 * (r / sigma) ** (-7)) / sigma\n",
    "                f[j] -= R / r * 4 * epsilon * (-12 * (r / sigma) ** (-13) + 6 * (r / sigma) ** (-7)) / sigma\n",
    "\n",
    "    for i in range(len(f)):\n",
    "        f[i] -= 2 * 0.0001 * len(positions) ** (-2 / 3) * (positions[i])\n",
    "    f = np.clip(f, -(10**4), 10**4)\n",
    "    return f"
   ]
  },
  {
   "cell_type": "markdown",
   "id": "bccb4df1-f3f5-4ba3-ac4e-fb5cd3cfadd4",
   "metadata": {
    "tags": []
   },
   "source": [
    "## Combination of forces and potential energy calculation"
   ]
  },
  {
   "cell_type": "code",
   "execution_count": 1,
   "id": "8aeb2c5d-cb21-49a2-a97f-c609af224696",
   "metadata": {
    "ExecuteTime": {
     "end_time": "2024-01-13T13:14:03.619628Z",
     "start_time": "2024-01-13T13:14:03.467463Z"
    }
   },
   "outputs": [],
   "source": [
    "def calculate_energy_and_forces(positions, L, epsilon=1.0, sigma=1.0, rc=2.5):\n",
    "    N = len(positions)\n",
    "    alpha = 0.0001 * len(positions) ** (-2 / 3)\n",
    "    total_energy = 0.0\n",
    "    sum_1 = 0.0\n",
    "    sum_2 = 0\n",
    "\n",
    "    # energy calculation\n",
    "    for i in range(N - 1):\n",
    "        for j in range(i + 1, N):\n",
    "            r_ij = find_distance(positions[i], positions[j], L)\n",
    "            r = np.linalg.norm(r_ij)\n",
    "\n",
    "            # Truncate the pairwise potential\n",
    "            if rc * sigma >= r > 0.1:\n",
    "                # Lennard-Jones potential energy calculation\n",
    "                potential_energy = 4 * epsilon * ((((sigma / r) ** 3) ** 2) ** 2 - ((sigma / r) ** 3) ** 2 - (\n",
    "                            ((sigma / rc) ** 3) ** 2) ** 2 + ((sigma / rc) ** 3) ** 2)\n",
    "                sum_2 += potential_energy\n",
    "    for i in range(N):\n",
    "        sum_1 += alpha * (np.linalg.norm(positions[i])) ** 2\n",
    "    energy = sum_1 + sum_2\n",
    "\n",
    "    # force calculation\n",
    "    f = [[0., 0., 0.] for l in range(len(positions))]\n",
    "    for i in range(len(positions) + 1):\n",
    "        for j in range(i + 1, len(positions)):\n",
    "            R = find_distance(positions[i], positions[j], L)\n",
    "            r = np.linalg.norm(R)\n",
    "            if r <= rc:\n",
    "                f[i] += R / r * 4 * epsilon * (-12 * (r / sigma) ** (-13) + 6 * (r / sigma) ** (-7)) / sigma\n",
    "                f[j] -= R / r * 4 * epsilon * (-12 * (r / sigma) ** (-13) + 6 * (r / sigma) ** (-7)) / sigma\n",
    "\n",
    "    for i in range(len(f)):\n",
    "        f[i] -= 2 * 0.0001 * len(positions) ** (-2 / 3) * (positions[i])\n",
    "    f = np.clip(f, -(10 ** 4), 10 ** 4)\n",
    "\n",
    "    return energy, f"
   ]
  },
  {
   "cell_type": "markdown",
   "id": "10bc28c97dee0213",
   "metadata": {
    "collapsed": false
   },
   "source": [
    "## Quadratic interpolation"
   ]
  },
  {
   "cell_type": "code",
   "execution_count": null,
   "id": "b827c1742ef4631e",
   "metadata": {
    "collapsed": false
   },
   "outputs": [],
   "source": [
    "def interpolation(energy_0, energy_1, energy_2, d):\n",
    "    a = np.zeros(3)\n",
    "    x = np.array([0, d, d * 2])\n",
    "    y = np.array([energy_0, energy_1, energy_2])\n",
    "\n",
    "    a = [[0., 0., 0.] for i in range(3)]\n",
    "    for i in range(3):\n",
    "        a[i] = np.array([x[i] ** 2, x[i], 1.])\n",
    "    poly = np.linalg.solve(a, y)\n",
    "    delta_min = -poly[1] / (2 * poly[0])\n",
    "\n",
    "    return delta_min"
   ]
  },
  {
   "cell_type": "markdown",
   "id": "36a4121f-ccdc-4c24-ac33-ee57c41d0fc3",
   "metadata": {
    "tags": []
   },
   "source": [
    "## Line Search"
   ]
  },
  {
   "cell_type": "code",
   "execution_count": null,
   "id": "ad3f2a46-8223-4578-b142-cfd94d584e58",
   "metadata": {},
   "outputs": [],
   "source": [
    "def line_search(positions, d, L, delta_initial=0.001, LStol=10e-8, MaxLSSteps=10**5):\n",
    "    i = 0\n",
    "    N = len(positions)\n",
    "    delta = delta_initial\n",
    "    final_positions = positions\n",
    "    final_potential_energy = calculate_potential_energy(final_positions, L)\n",
    "    r0 = positions\n",
    "    r1 = positions\n",
    "    r2 = positions\n",
    "    for j in range(len(positions)):\n",
    "        r1[j] = r0[j] + delta * d[j]\n",
    "    for j in range(len(positions)):\n",
    "        r2[j] = r1[j] + delta * d[j]\n",
    "    U_r0 = calculate_potential_energy(r0, L)\n",
    "    U_r1 = calculate_potential_energy(r1, L)\n",
    "    U_r2 = calculate_potential_energy(r2, L)\n",
    "    while (i < MaxLSSteps) and not (U_r0 > U_r1 and U_r2 > U_r1):\n",
    "        i += 1\n",
    "        r1 = r2\n",
    "        for j in range(N):\n",
    "            r2[j] = r1[j] + delta * d[j]\n",
    "        U_r0 = U_r1\n",
    "        U_r1 = U_r2\n",
    "        U_r2 = calculate_potential_energy(r2, L)\n",
    "        fractional_change = np.abs((U_r1 - U_r2) / U_r1)\n",
    "        delta *= 1.1 if fractional_change < 0.9 else 0.5\n",
    "        if fractional_change < LStol:\n",
    "            break\n",
    "    if (U_r2 > U_r1) and (U_r0 > U_r1):\n",
    "        delta_min = interpolation(U_r0, U_r1, U_r2, delta)\n",
    "        for j in range(len(positions)):\n",
    "            final_positions[j] = r0[j] + delta_min * d[j]\n",
    "        final_potential_energy = calculate_potential_energy(final_positions, L)\n",
    "    return final_positions, final_potential_energy"
   ]
  },
  {
   "cell_type": "markdown",
   "id": "19107302-07b8-49c8-aee4-20f64c915763",
   "metadata": {
    "tags": []
   },
   "source": [
    "## Conjugate Gradient minimization"
   ]
  },
  {
   "cell_type": "code",
   "execution_count": null,
   "id": "acc8e695-05fd-4e30-a804-694f9ea8c293",
   "metadata": {},
   "outputs": [],
   "source": [
    "def conjugate_gradient_minimization(positions, L, ECtol=1e-10, MaxCGSteps=100000):\n",
    "    energy = np.empty(MaxCGSteps + 1)\n",
    "    energy[:] = 0.\n",
    "    CGSteps = 0\n",
    "    old_energy, direction = calculate_energy_and_forces(positions, L)\n",
    "    energy[CGSteps] = old_energy\n",
    "    if np.linalg.norm(direction) < 0.0001:\n",
    "        return positions, old_energy, CGSteps, energy\n",
    "\n",
    "    old_forces = direction\n",
    "    direction = np.array([d / np.linalg.norm(d) for d in direction])\n",
    "    old_energy = calculate_potential_energy(positions, L)\n",
    "    r_0, new_energy = line_search(positions, direction, L)\n",
    "    diff = abs(new_energy - old_energy)\n",
    "    CGSteps += 1\n",
    "    energy[CGSteps] = new_energy\n",
    "    while diff >= ECtol * abs(new_energy) and CGSteps < MaxCGSteps:\n",
    "        r_copy = np.array(r_0)\n",
    "        new_forces = calculate_forces(r_0, L)\n",
    "        if np.linalg.norm(new_forces) < 0.0001:\n",
    "            return r_0, new_energy, CGSteps, energy\n",
    "\n",
    "        y = [(x - old_forces[i]).dot(x) / old_forces[i].dot(old_forces[i]) for i, x in enumerate(new_forces)]\n",
    "        direction = np.array([new_forces[i] + x * direction[i] for i, x in enumerate(y)])\n",
    "        direction = np.array([d / np.linalg.norm(d) for d in direction])\n",
    "        old_energy = new_energy\n",
    "        old_forces = new_forces\n",
    "        r_0, new_energy = line_search(r_0, direction, L)\n",
    "        diff = abs(new_energy - old_energy)\n",
    "        if (new_energy > 0 > old_energy) or (0.8 * old_energy < new_energy < 0):\n",
    "            return r_copy, old_energy, CGSteps, energy\n",
    "        CGSteps += 1\n",
    "        energy[CGSteps] = new_energy\n",
    "\n",
    "    return r_0, new_energy, CGSteps, energy"
   ]
  },
  {
   "cell_type": "markdown",
   "id": "c9d26c92-56fd-440a-8539-4aeec2fe85bf",
   "metadata": {},
   "source": [
    "# Minimization for different starting positions and Plotting"
   ]
  },
  {
   "cell_type": "code",
   "execution_count": null,
   "id": "7c32d4fa-8716-44b1-9536-2c19657bc5b7",
   "metadata": {},
   "outputs": [],
   "source": [
    "def perform_the_minimization_for_different_starting_positions(N_divided_by_V):\n",
    "    N_values = np.arange(2, 26)\n",
    "    L_values = np.power(N_values / N_divided_by_V, 1 / 3)\n",
    "    min_CGSteps = np.zeros([N_values.size])\n",
    "    min_energy = np.full([N_values.size], 1000, dtype=float)\n",
    "    best_position_sequences = np.zeros([N_values.size, MaxLSSteps, 2, 3])\n",
    "    best_internal_energy_sequences = np.full([N_values.size], 1000)\n",
    "    best_starting_positions = np.empty(N_values.size, dtype=object)\n",
    "    e_min = np.zeros(MaxCGSteps + 1)\n",
    "    CGSteps_min = np.zeros(N_values.size)\n",
    "    for j in range(N_values.size):\n",
    "        i = 0\n",
    "        for i in range(M):\n",
    "            print(i)\n",
    "            starting_positions = initialize_positions(N_values[j], L_values[j])\n",
    "            starting_positions, energy, CGSteps, e = conjugate_gradient_minimization(starting_positions, L_values[j], ECtol, MaxCGSteps)\n",
    "            if energy < min_energy[j]:\n",
    "                min_energy[j] = energy\n",
    "                best_starting_positions[j] = starting_positions\n",
    "                CGSteps_min[j] = int(CGSteps)\n",
    "                e_min[0:int(CGSteps_min[j])] = np.copy(e[0:int(CGSteps_min[j])])\n",
    "            print(min_energy)\n",
    "        for i in range(int(CGSteps_min[j])):\n",
    "            if e_min[i] > 10:\n",
    "                e_min[i] = 10\n",
    "\n",
    "        # Printing results\n",
    "        print('Results for N: ', N_values[j])\n",
    "        print('Needed CGSteps: ', CGSteps_min[j])\n",
    "        print('Minimum Energy: ', min_energy[j])\n",
    "        print('Optimal Energy (Paper): ', goal_energy[N_values[j] - 2])\n",
    "        print('------------------------------------')\n",
    "\n",
    "        # Plotting of Task 3\n",
    "        fig = plt.figure()\n",
    "        ax = fig.add_axes([0, 0, 1, 1])\n",
    "        ax.set_title(\"Potential energy at each iteration for a cluster of \" + str(N_values) + \" atoms\")\n",
    "        ax.set_ylabel(\"Potential Energy\")\n",
    "        ax.set_xlabel(\"Iteration\")\n",
    "        ax.plot(e_min[0:int(CGSteps_min[j])], linestyle='-', marker='o')\n",
    "        lower = int(round(CGSteps_min[j] / 6.))\n",
    "        if lower == 0:\n",
    "            lower = 1\n",
    "        ax.set_xticks(range(0, int(CGSteps_min[j]), lower))\n",
    "        plt.show()\n",
    "\n",
    "    traj = Trajectory('nano.traj', 'w')\n",
    "    fac = 1.0\n",
    "    for i in range(0, N_values.size):\n",
    "        n = N_values[i]\n",
    "        if best_starting_positions[i][0][0] == 0:\n",
    "            break\n",
    "        else:\n",
    "            nano = Atoms('C' + str(n), best_starting_positions[i] * fac)\n",
    "            traj.write(nano)\n",
    "\n",
    "    # Plotting of Task 2\n",
    "    plot_results_task2(N_values, CGSteps_min, min_energy)\n",
    "\n",
    "    # Plotting of Task 4\n",
    "    parameters, covariance = curve_fit(U_macro, N_values, min_energy)\n",
    "    fit_y = U_macro(N_values, parameters[0], parameters[1], parameters[2])\n",
    "    ax = plt.axes()\n",
    "    ax.plot(N_values, min_energy - fit_y)\n",
    "    ax.set_xlabel(\"Atoms\")\n",
    "    ax.set_ylabel(\"U/e\")\n",
    "    ax.set_xticks(range(N_values[0], N_values[-1], 2))\n",
    "    ax.set_title(\"Potential energy simulation minus estimation\")\n",
    "    plt.show()"
   ]
  },
  {
   "cell_type": "markdown",
   "id": "5e0df243-185f-48ef-92e0-8f728b187e1a",
   "metadata": {
    "tags": []
   },
   "source": [
    "## Plot Results for Task 2"
   ]
  },
  {
   "cell_type": "code",
   "execution_count": null,
   "id": "78ead5c0-3e0f-4218-b20c-a45762bb175c",
   "metadata": {},
   "outputs": [],
   "source": [
    "def plot_results_task2(N, CGSteps, energy_min):\n",
    "    plt.figure(figsize=(10, 5))\n",
    "\n",
    "    plt.subplot(1, 2, 1)\n",
    "    plt.plot(N, energy_min, marker='o')\n",
    "    plt.title('Lennard-Jones Potential Minimum')\n",
    "    plt.xlabel('Number of Particles (N)')\n",
    "    plt.ylabel('Lennard-Jones Potential (U_min)')\n",
    "    plt.ylim(-110, 10)\n",
    "\n",
    "    plt.subplot(1, 2, 2)\n",
    "    plt.plot(N, CGSteps, marker='o', color='orange')\n",
    "    plt.title('Conjugate Gradient Steps')\n",
    "    plt.xlabel('Number of Particles (N)')\n",
    "    plt.ylabel('CG Steps to Convergence')\n",
    "\n",
    "    plt.tight_layout()\n",
    "    plt.show()"
   ]
  },
  {
   "cell_type": "markdown",
   "id": "dfe53651-468f-45c4-8289-22c9750d783c",
   "metadata": {
    "tags": []
   },
   "source": [
    "## Function for macroscopic scaling estimate"
   ]
  },
  {
   "cell_type": "code",
   "execution_count": null,
   "id": "f3d4494f-1ffb-4339-a480-a9975f01f7d2",
   "metadata": {},
   "outputs": [],
   "source": [
    "def U_macro(N, a, b, c):\n",
    "    return a + b * N**(2/3) + c * N"
   ]
  },
  {
   "cell_type": "markdown",
   "id": "3dfc68cd-8702-4418-9500-be6f2a4069be",
   "metadata": {
    "tags": []
   },
   "source": [
    "# Main"
   ]
  },
  {
   "cell_type": "code",
   "execution_count": null,
   "id": "4c2a8b47-cd3f-45fe-9d9b-012ddb55a4ab",
   "metadata": {},
   "outputs": [],
   "source": [
    "if __name__ == '__main__':\n",
    "    t_0 = time.perf_counter()\n",
    "\n",
    "    # Task 1\n",
    "    perform_the_minimization_for_different_starting_positions(0.01)\n",
    "\n",
    "    # Bonus Task\n",
    "    perform_the_minimization_for_different_starting_positions(0.005)\n",
    "\n",
    "    t_end = time.perf_counter()\n",
    "    print(\"total time elapsed:\", np.round(t_end - t_0, 3), \" seconds\")"
   ]
  },
  {
   "cell_type": "markdown",
   "id": "1b08ca7a-5585-45aa-b223-7d1c574ce846",
   "metadata": {
    "tags": []
   },
   "source": [
    "## Question: Do you notice anything different at certain numbers?"
   ]
  },
  {
   "cell_type": "markdown",
   "id": "6713dcd56dc2769a",
   "metadata": {
    "collapsed": false
   },
   "source": [
    "From the previous lectures we know that for 13 and 19 atoms we get a icosahedral cluster, where there are lower energies than would be expected according to macroscopic scaling.\n",
    "Due to the fact that our energies only resemble the values of the paper up to N=12, the phenomenon is unfortunately not recognizable in our plots."
   ]
  }
 ],
 "metadata": {
  "kernelspec": {
   "display_name": "Python 3 (ipykernel)",
   "language": "python",
   "name": "python3"
  },
  "language_info": {
   "codemirror_mode": {
    "name": "ipython",
    "version": 3
   },
   "file_extension": ".py",
   "mimetype": "text/x-python",
   "name": "python",
   "nbconvert_exporter": "python",
   "pygments_lexer": "ipython3",
   "version": "3.9.7"
  }
 },
 "nbformat": 4,
 "nbformat_minor": 5
}
